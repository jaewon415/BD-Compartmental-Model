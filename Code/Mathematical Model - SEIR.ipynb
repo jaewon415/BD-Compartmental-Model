{
 "cells": [
  {
   "cell_type": "markdown",
   "metadata": {},
   "source": [
    "## SEIR Model with Vital Dynamics\n",
    "\n",
    "The coronaviruses are a large family of viruses that appears in crown-like shape under the microscope and can cause a mild cold to severe respiratory disease. Some of the well-known coronaviruses are Middle East Respiratory Syndrome (MERS) and Severe Acute Respiratory Syndrome (SARS). And these viruses are notorious for their high transmissibility compared to other human influenza pathogens. The novel coronavirus (COVID-19) is now getting global attention because no medical practitioners know how severe the disease will be and how far it will spread. In this project, we will use **SEIR (S: Susceptible, E: Exposed, I: Infectious, and R: Removed)** model to forecast the total number of infected individuals in South Korea."
   ]
  },
  {
   "cell_type": "markdown",
   "metadata": {},
   "source": [
    "### SEIR-BD Model\n",
    "$\\frac{dS}{dt} = {\\mu}N - vS - \\frac{{\\beta}SI}{N}$<font size=2>,  where ${\\beta}$ is the infection rate.</font> <br><br>\n",
    "$\\frac{dE}{dt} = \\frac{{\\beta}SI}{N} - vE - {\\sigma}E$ <font size=2>,  where ${\\sigma}$ is the incubation rate.</font><br><br>\n",
    "$\\frac{dI}{dt} = {\\sigma}E - {\\gamma}I - vI$ <font size=2>,  where ${\\gamma}$ is the recovery rate.</font><br><br>\n",
    "$\\frac{dR}{dt} = {\\gamma}I - vR$ <br><br>\n",
    "<font size=2>${\\cdot}N = S + E + I + R$ is the total population.</font><br>\n",
    "<font size=2>${\\cdot}{\\mu}$ and ${v}$ represent the birth and death rates respectively.</font>\n",
    "\n"
   ]
  },
  {
   "cell_type": "markdown",
   "metadata": {},
   "source": [
    "### Import Modules"
   ]
  },
  {
   "cell_type": "code",
   "execution_count": 3,
   "metadata": {},
   "outputs": [],
   "source": [
    "import pandas as pd\n",
    "import numpy as np\n",
    "import matplotlib.pyplot as plt\n",
    "from scipy import integrate"
   ]
  },
  {
   "cell_type": "markdown",
   "metadata": {},
   "source": [
    "### Set Parameters"
   ]
  },
  {
   "cell_type": "code",
   "execution_count": 2,
   "metadata": {},
   "outputs": [],
   "source": [
    "# R0 = Reproduction number is 2.2 \n",
    "\n",
    "N = 51780579 # South Korea population \n",
    "mu = 0.92     # birth rate\n",
    "nu = \"\"      # death rate\n",
    "sigma = 1 / 5.2 # The mean average was 5.2 days (incubation period)\n",
    "beta = \"\"   # transmission or contact rate\n",
    "gamma = \"\"   # recovery rate"
   ]
  },
  {
   "cell_type": "code",
   "execution_count": null,
   "metadata": {},
   "outputs": [],
   "source": [
    "# nu = death rate,  sigma = incubation rate,   beta = infection rate\n",
    "# mu = birth rate,  gamma = recovery rate\n",
    "def differentialEq(key_variable, N, beta, sigma, gamma, mu, nu):\n",
    "    S, E, I, R = key_variable\n",
    "    dSdt = mu * N - nu * S - beta * S * I / N\n",
    "    dEdt = beta * S * I / N - nu * E - sigma * E\n",
    "    dIdt = sigma * E - gamma * I - nu * I\n",
    "    dRdt = gamma * I - nu * R\n",
    "    return dSdt, dEdt, dIdt, dRdt"
   ]
  },
  {
   "cell_type": "markdown",
   "metadata": {},
   "source": [
    "### Reference\n",
    "**Fertility Rate & Population:** https://kosis.kr/eng/ <br>\n",
    "**Incubation & Reproductive number:** https://www.nejm.org/doi/full/10.1056/NEJMoa2001316 <br>"
   ]
  }
 ],
 "metadata": {
  "kernelspec": {
   "display_name": "Python 3",
   "language": "python",
   "name": "python3"
  },
  "language_info": {
   "codemirror_mode": {
    "name": "ipython",
    "version": 3
   },
   "file_extension": ".py",
   "mimetype": "text/x-python",
   "name": "python",
   "nbconvert_exporter": "python",
   "pygments_lexer": "ipython3",
   "version": "3.7.7"
  }
 },
 "nbformat": 4,
 "nbformat_minor": 4
}
