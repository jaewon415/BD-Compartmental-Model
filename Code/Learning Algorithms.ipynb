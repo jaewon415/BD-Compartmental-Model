{
 "cells": [
  {
   "cell_type": "markdown",
   "metadata": {},
   "source": [
    "## Import Modules"
   ]
  },
  {
   "cell_type": "code",
   "execution_count": 19,
   "metadata": {},
   "outputs": [],
   "source": [
    "import pandas as pd\n",
    "import numpy as np\n",
    "import matplotlib.pyplot as plt"
   ]
  },
  {
   "cell_type": "markdown",
   "metadata": {},
   "source": [
    "## Read Data"
   ]
  },
  {
   "cell_type": "code",
   "execution_count": 17,
   "metadata": {},
   "outputs": [],
   "source": [
    "time_df = pd.read_csv(\"/Users/james/Desktop/BD-Compartmental-Model/Data/Time.csv\", encoding = \"UTF-8\")\n",
    "time_df.index = pd.to_datetime(time_df[\"date\"])\n",
    "time_df.drop(\"date\", axis = 1, inplace=True)\n",
    "\n",
    "time_province_df = pd.read_csv(\"//Users/james/Desktop/BD-Compartmental-Model/Data/TimeProvince.csv\", encoding = \"UTF-8\")\n",
    "time_province_df.index = pd.to_datetime(time_province_df[\"date\"])\n",
    "time_province_df.drop(\"date\", axis = 1, inplace = True)"
   ]
  },
  {
   "cell_type": "code",
   "execution_count": 23,
   "metadata": {},
   "outputs": [
    {
     "data": {
      "text/html": [
       "<div>\n",
       "<style scoped>\n",
       "    .dataframe tbody tr th:only-of-type {\n",
       "        vertical-align: middle;\n",
       "    }\n",
       "\n",
       "    .dataframe tbody tr th {\n",
       "        vertical-align: top;\n",
       "    }\n",
       "\n",
       "    .dataframe thead th {\n",
       "        text-align: right;\n",
       "    }\n",
       "</style>\n",
       "<table border=\"1\" class=\"dataframe\">\n",
       "  <thead>\n",
       "    <tr style=\"text-align: right;\">\n",
       "      <th></th>\n",
       "      <th>time</th>\n",
       "      <th>test</th>\n",
       "      <th>negative</th>\n",
       "      <th>confirmed</th>\n",
       "      <th>released</th>\n",
       "      <th>deceased</th>\n",
       "    </tr>\n",
       "    <tr>\n",
       "      <th>date</th>\n",
       "      <th></th>\n",
       "      <th></th>\n",
       "      <th></th>\n",
       "      <th></th>\n",
       "      <th></th>\n",
       "      <th></th>\n",
       "    </tr>\n",
       "  </thead>\n",
       "  <tbody>\n",
       "    <tr>\n",
       "      <th>2020-04-18</th>\n",
       "      <td>0</td>\n",
       "      <td>554834</td>\n",
       "      <td>530631</td>\n",
       "      <td>10653</td>\n",
       "      <td>7937</td>\n",
       "      <td>232</td>\n",
       "    </tr>\n",
       "    <tr>\n",
       "      <th>2020-04-19</th>\n",
       "      <td>0</td>\n",
       "      <td>559109</td>\n",
       "      <td>536205</td>\n",
       "      <td>10661</td>\n",
       "      <td>8042</td>\n",
       "      <td>234</td>\n",
       "    </tr>\n",
       "    <tr>\n",
       "      <th>2020-04-20</th>\n",
       "      <td>0</td>\n",
       "      <td>563035</td>\n",
       "      <td>540380</td>\n",
       "      <td>10674</td>\n",
       "      <td>8114</td>\n",
       "      <td>236</td>\n",
       "    </tr>\n",
       "  </tbody>\n",
       "</table>\n",
       "</div>"
      ],
      "text/plain": [
       "            time    test  negative  confirmed  released  deceased\n",
       "date                                                             \n",
       "2020-04-18     0  554834    530631      10653      7937       232\n",
       "2020-04-19     0  559109    536205      10661      8042       234\n",
       "2020-04-20     0  563035    540380      10674      8114       236"
      ]
     },
     "execution_count": 23,
     "metadata": {},
     "output_type": "execute_result"
    }
   ],
   "source": [
    "time_df.tail(3)"
   ]
  },
  {
   "cell_type": "code",
   "execution_count": 18,
   "metadata": {},
   "outputs": [
    {
     "name": "stdout",
     "output_type": "stream",
     "text": [
      "            time    test  negative  confirmed  released  deceased\n",
      "date                                                             \n",
      "2020-04-16     0  538775    513894      10613      7757       229\n",
      "2020-04-17     0  546463    521642      10635      7829       230\n",
      "2020-04-18     0  554834    530631      10653      7937       232\n",
      "2020-04-19     0  559109    536205      10661      8042       234\n",
      "2020-04-20     0  563035    540380      10674      8114       236\n"
     ]
    }
   ],
   "source": []
  },
  {
   "cell_type": "code",
   "execution_count": 35,
   "metadata": {},
   "outputs": [],
   "source": [
    "# Split train and test on confirmed dataset\n",
    "confirm_df = time_df[[\"confirmed\"]]\n",
    "\n",
    "# Predict 5 days afterward\n",
    "lstm_train = confirm_df.iloc[: len(confirm_df) - 5]\n",
    "lstm_test = confirm_df.iloc[len(confirm_df) - 5:]"
   ]
  },
  {
   "cell_type": "code",
   "execution_count": 37,
   "metadata": {},
   "outputs": [],
   "source": [
    "# Feature Scaling\n",
    "from sklearn.preprocessing import MinMaxScaler\n",
    "\n",
    "# Scale between 0-1\n",
    "scaler = MinMaxScaler()\n",
    "scaler.fit(lstm_train)\n",
    "preprocessed_train = scaler.transform(lstm_train)\n",
    "preprocessed_test = scaler.transform(lstm_test)"
   ]
  },
  {
   "cell_type": "code",
   "execution_count": 38,
   "metadata": {},
   "outputs": [],
   "source": [
    "from keras.preprocessing.sequence import TimeseriesGenerator\n",
    "\n",
    "n_features = 1\n",
    "n_input = 5\n",
    "generator = TimeseriesGenerator(preprocessed_train, preprocessed_train, length= n_input, batch_size = n_features)"
   ]
  },
  {
   "cell_type": "code",
   "execution_count": 39,
   "metadata": {},
   "outputs": [],
   "source": [
    "# Must download tensorflow as well\n",
    "from keras.models import Sequential\n",
    "from keras.layers import Dense # connected neural network layer\n",
    "from keras.layers import LSTM # Adding the Long Short-Term Memory layer\n",
    "from keras.layers import Dropout # Prevents overfitting\n",
    "from keras.layers import Activation\n",
    "\n",
    "# grid search epochs, batch size\n",
    "epochs = [10 * i for i in range(1, 11)]\n",
    "batch_size = [1000, 5000] # add 5, 10, 20, 40, 60, 80, 100 etc\n",
    "param_grid = dict(epochs = epochs, batch_size = batch_size)\n",
    "grid = GridSearchCV(estimator=model, param_grid=param_grid, n_jobs=-1)\n",
    "\n",
    "model = Sequential()\n",
    "model.add(LSTM(150,activation = \"relu\", input_shape = (n_input, n_features)))\n",
    "model.add(Dense(75, activation = 'relu'))\n",
    "model.add(Dense(units = 1))\n",
    "model.compile(optimizer = \"adam\",loss = \"mse\")"
   ]
  }
 ],
 "metadata": {
  "kernelspec": {
   "display_name": "Python 3",
   "language": "python",
   "name": "python3"
  },
  "language_info": {
   "codemirror_mode": {
    "name": "ipython",
    "version": 3
   },
   "file_extension": ".py",
   "mimetype": "text/x-python",
   "name": "python",
   "nbconvert_exporter": "python",
   "pygments_lexer": "ipython3",
   "version": "3.7.7"
  }
 },
 "nbformat": 4,
 "nbformat_minor": 4
}
